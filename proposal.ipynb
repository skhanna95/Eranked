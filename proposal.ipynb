{
 "cells": [
  {
   "cell_type": "markdown",
   "metadata": {},
   "source": [
    "# PROJECT PROPOSAL - NLPCorps"
   ]
  },
  {
   "cell_type": "markdown",
   "metadata": {},
   "source": [
    "***"
   ]
  },
  {
   "cell_type": "markdown",
   "metadata": {},
   "source": [
    "## TITLE\n",
    "\n",
    "### E-Ranked: A Deep Learning Based Product Search Relevance Tool"
   ]
  },
  {
   "cell_type": "markdown",
   "metadata": {},
   "source": [
    "## ABSTRACT:"
   ]
  },
  {
   "cell_type": "markdown",
   "metadata": {},
   "source": [
    "To provide the best customer experience, online retailers have to give results that are relevant to the customers based on their search queries, which makes **search** an important element of the website. Providing search results to complex queries remains a challenge for many retailers. This project concerns a deep learning approach for information retrieval and ranking. In the baseline approach of the problem, we will start by running the search query through a spelling correction task then we use a regression-based approach using Gradient boosting/ XGBoost to retrieve the result rankings. To augment the performance we then propose to implement a deep learning-based approach in which we use CNN/2D-GRU and RNN networks for information retrieval[1]. We also, use a spelling correction and a scRNN based Robust word Recognition[2] which serves as an input to our model. Our goal is to take a novel approach and apply it to the real-world problem. We intend to combine different information retrieval approaches that have proved to be successful and make a tool that many large and small businesses can benefit from. The dataset we use for this project is the **Home Depot Product Search Relevance** which we use as the training data and for our test purposes, we use **eCommerce search relevance** dataset. Both of the datasets require a series of preprocessing steps which include cleaning of the data, combining information from multiple files and web scrapping to complete the dataset. For our evaluation metric will be using the ranking of the product given a search term. We will be using a weighted average of result ranks to test the accuracy of our model and show an improvement over our baseline algorithm. At last, we will implement a functional web-based demo to showcase the working of our model."
   ]
  },
  {
   "cell_type": "markdown",
   "metadata": {},
   "source": [
    "## REFERENCE\n",
    "\n",
    "[1] https://arxiv.org/pdf/1710.05649.pdf\n",
    "\n",
    "[2] https://arxiv.org/pdf/1608.02214.pdf"
   ]
  },
  {
   "cell_type": "code",
   "execution_count": null,
   "metadata": {},
   "outputs": [],
   "source": []
  }
 ],
 "metadata": {
  "kernelspec": {
   "display_name": "Python 3",
   "language": "python",
   "name": "python3"
  },
  "language_info": {
   "codemirror_mode": {
    "name": "ipython",
    "version": 3
   },
   "file_extension": ".py",
   "mimetype": "text/x-python",
   "name": "python",
   "nbconvert_exporter": "python",
   "pygments_lexer": "ipython3",
   "version": "3.7.3"
  }
 },
 "nbformat": 4,
 "nbformat_minor": 2
}
