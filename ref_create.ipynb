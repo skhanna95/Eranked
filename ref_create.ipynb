{
 "cells": [
  {
   "cell_type": "code",
   "execution_count": 3,
   "metadata": {},
   "outputs": [],
   "source": [
    "import numpy as np\n",
    "import pandas as pd"
   ]
  },
  {
   "cell_type": "markdown",
   "metadata": {},
   "source": [
    "### Make Train Ref File"
   ]
  },
  {
   "cell_type": "code",
   "execution_count": 35,
   "metadata": {},
   "outputs": [
    {
     "data": {
      "text/html": [
       "<div>\n",
       "<style scoped>\n",
       "    .dataframe tbody tr th:only-of-type {\n",
       "        vertical-align: middle;\n",
       "    }\n",
       "\n",
       "    .dataframe tbody tr th {\n",
       "        vertical-align: top;\n",
       "    }\n",
       "\n",
       "    .dataframe thead th {\n",
       "        text-align: right;\n",
       "    }\n",
       "</style>\n",
       "<table border=\"1\" class=\"dataframe\">\n",
       "  <thead>\n",
       "    <tr style=\"text-align: right;\">\n",
       "      <th></th>\n",
       "      <th>product_uid</th>\n",
       "      <th>product_title</th>\n",
       "      <th>search_term</th>\n",
       "      <th>relevance</th>\n",
       "      <th>brand</th>\n",
       "      <th>product_description</th>\n",
       "    </tr>\n",
       "  </thead>\n",
       "  <tbody>\n",
       "    <tr>\n",
       "      <th>0</th>\n",
       "      <td>116711</td>\n",
       "      <td>ge z wave 1800 watt resist cfl led indoor plug...</td>\n",
       "      <td>zwave switch</td>\n",
       "      <td>3.00</td>\n",
       "      <td>NaN</td>\n",
       "      <td>transform ani home into a smart home with the ...</td>\n",
       "    </tr>\n",
       "    <tr>\n",
       "      <th>1</th>\n",
       "      <td>141628</td>\n",
       "      <td>leviton z wave control 3 way/remot scene capab...</td>\n",
       "      <td>zwave switch</td>\n",
       "      <td>3.00</td>\n",
       "      <td>leviton</td>\n",
       "      <td>the leviton dzmx1 is a z wave enabl univers di...</td>\n",
       "    </tr>\n",
       "    <tr>\n",
       "      <th>2</th>\n",
       "      <td>142033</td>\n",
       "      <td>leviton decora z wave control 15 amp scene cap...</td>\n",
       "      <td>zwave switch</td>\n",
       "      <td>3.00</td>\n",
       "      <td>leviton</td>\n",
       "      <td>the leviton dzs15 is a z wave enabl univers sw...</td>\n",
       "    </tr>\n",
       "    <tr>\n",
       "      <th>3</th>\n",
       "      <td>135547</td>\n",
       "      <td>ge z wave 600 watt cfl led indoor in wall dimm...</td>\n",
       "      <td>zwave switch</td>\n",
       "      <td>2.67</td>\n",
       "      <td>NaN</td>\n",
       "      <td>transform ani home into a smart home with the ...</td>\n",
       "    </tr>\n",
       "    <tr>\n",
       "      <th>4</th>\n",
       "      <td>152640</td>\n",
       "      <td>z wave wireless light control with keypad control</td>\n",
       "      <td>zwave switch</td>\n",
       "      <td>2.67</td>\n",
       "      <td>NaN</td>\n",
       "      <td>transform ani home into a smart home with the ...</td>\n",
       "    </tr>\n",
       "    <tr>\n",
       "      <th>5</th>\n",
       "      <td>113534</td>\n",
       "      <td>lutron aurora wireless light control system li...</td>\n",
       "      <td>zwave switch</td>\n",
       "      <td>2.33</td>\n",
       "      <td>NaN</td>\n",
       "      <td>aurora is a pre program wireless radio frequen...</td>\n",
       "    </tr>\n",
       "  </tbody>\n",
       "</table>\n",
       "</div>"
      ],
      "text/plain": [
       "   product_uid                                      product_title  \\\n",
       "0       116711  ge z wave 1800 watt resist cfl led indoor plug...   \n",
       "1       141628  leviton z wave control 3 way/remot scene capab...   \n",
       "2       142033  leviton decora z wave control 15 amp scene cap...   \n",
       "3       135547  ge z wave 600 watt cfl led indoor in wall dimm...   \n",
       "4       152640  z wave wireless light control with keypad control   \n",
       "5       113534  lutron aurora wireless light control system li...   \n",
       "\n",
       "    search_term  relevance    brand  \\\n",
       "0  zwave switch       3.00      NaN   \n",
       "1  zwave switch       3.00  leviton   \n",
       "2  zwave switch       3.00  leviton   \n",
       "3  zwave switch       2.67      NaN   \n",
       "4  zwave switch       2.67      NaN   \n",
       "5  zwave switch       2.33      NaN   \n",
       "\n",
       "                                 product_description  \n",
       "0  transform ani home into a smart home with the ...  \n",
       "1  the leviton dzmx1 is a z wave enabl univers di...  \n",
       "2  the leviton dzs15 is a z wave enabl univers sw...  \n",
       "3  transform ani home into a smart home with the ...  \n",
       "4  transform ani home into a smart home with the ...  \n",
       "5  aurora is a pre program wireless radio frequen...  "
      ]
     },
     "execution_count": 35,
     "metadata": {},
     "output_type": "execute_result"
    }
   ],
   "source": [
    "#Fetch the training data\n",
    "train_data = pd.read_csv('data/train_dssm3.csv')\n",
    "train_data.head(6)"
   ]
  },
  {
   "cell_type": "code",
   "execution_count": 36,
   "metadata": {},
   "outputs": [],
   "source": [
    "splitVals = int(len(train_data)*0.80)\n",
    "train_data[:splitVals].to_csv('data/train_final.csv',index=False)\n",
    "train_data[splitVals:].to_csv('data/dev_final.csv',index=False)"
   ]
  },
  {
   "cell_type": "code",
   "execution_count": 37,
   "metadata": {},
   "outputs": [],
   "source": [
    "master_dict_train = {}\n",
    "for term in list(set(train_data['search_term'])):\n",
    "    master_dict_train[term] = len(master_dict_train)+1"
   ]
  },
  {
   "cell_type": "code",
   "execution_count": 38,
   "metadata": {},
   "outputs": [],
   "source": [
    "with open('data/reference/s_dict_train.txt','w') as f:\n",
    "    for k,v in master_dict_train.items():\n",
    "        f.write(k+'||'+str(v)+'\\n')"
   ]
  },
  {
   "cell_type": "code",
   "execution_count": 39,
   "metadata": {},
   "outputs": [],
   "source": [
    "dev_data = train_data[splitVals:]\n",
    "gr = dev_data.groupby('search_term')['relevance'].apply(list).reset_index(name='relevance')\n",
    "pid = dev_data.groupby('search_term')['product_uid'].apply(list).reset_index(name='product_uid')\n",
    "merged = gr.merge(pid,how='left',on='search_term')"
   ]
  },
  {
   "cell_type": "code",
   "execution_count": 40,
   "metadata": {},
   "outputs": [],
   "source": [
    "merged['search_term'] = merged['search_term'].apply(lambda x: str(master_dict_train[x]))"
   ]
  },
  {
   "cell_type": "code",
   "execution_count": 41,
   "metadata": {
    "scrolled": true
   },
   "outputs": [
    {
     "data": {
      "text/html": [
       "<div>\n",
       "<style scoped>\n",
       "    .dataframe tbody tr th:only-of-type {\n",
       "        vertical-align: middle;\n",
       "    }\n",
       "\n",
       "    .dataframe tbody tr th {\n",
       "        vertical-align: top;\n",
       "    }\n",
       "\n",
       "    .dataframe thead th {\n",
       "        text-align: right;\n",
       "    }\n",
       "</style>\n",
       "<table border=\"1\" class=\"dataframe\">\n",
       "  <thead>\n",
       "    <tr style=\"text-align: right;\">\n",
       "      <th></th>\n",
       "      <th>search_term</th>\n",
       "      <th>relevance</th>\n",
       "      <th>product_uid</th>\n",
       "    </tr>\n",
       "  </thead>\n",
       "  <tbody>\n",
       "    <tr>\n",
       "      <th>0</th>\n",
       "      <td>6986</td>\n",
       "      <td>[3.0, 2.67, 2.33]</td>\n",
       "      <td>[102253, 111283, 102836]</td>\n",
       "    </tr>\n",
       "    <tr>\n",
       "      <th>1</th>\n",
       "      <td>3719</td>\n",
       "      <td>[3.0, 3.0, 2.33]</td>\n",
       "      <td>[120307, 131403, 142574]</td>\n",
       "    </tr>\n",
       "    <tr>\n",
       "      <th>2</th>\n",
       "      <td>8868</td>\n",
       "      <td>[2.67, 2.33, 2.33, 2.0, 2.0, 2.0, 2.0, 2.0, 1.67]</td>\n",
       "      <td>[173029, 103075, 172086, 103297, 127687, 16977...</td>\n",
       "    </tr>\n",
       "    <tr>\n",
       "      <th>3</th>\n",
       "      <td>1029</td>\n",
       "      <td>[3.0, 2.67, 2.33, 2.33, 2.33, 2.33, 2.0, 1.33]</td>\n",
       "      <td>[152423, 133273, 109031, 142783, 143108, 16139...</td>\n",
       "    </tr>\n",
       "    <tr>\n",
       "      <th>4</th>\n",
       "      <td>9026</td>\n",
       "      <td>[2.67, 2.67, 2.67, 2.67, 2.33, 1.67]</td>\n",
       "      <td>[152672, 153135, 158820, 162809, 137444, 133249]</td>\n",
       "    </tr>\n",
       "    <tr>\n",
       "      <th>...</th>\n",
       "      <td>...</td>\n",
       "      <td>...</td>\n",
       "      <td>...</td>\n",
       "    </tr>\n",
       "    <tr>\n",
       "      <th>2404</th>\n",
       "      <td>7020</td>\n",
       "      <td>[3.0, 3.0, 3.0, 2.67, 2.67, 2.0]</td>\n",
       "      <td>[102455, 117151, 162801, 100342, 133562, 126083]</td>\n",
       "    </tr>\n",
       "    <tr>\n",
       "      <th>2405</th>\n",
       "      <td>11441</td>\n",
       "      <td>[3.0, 2.33]</td>\n",
       "      <td>[125934, 146854]</td>\n",
       "    </tr>\n",
       "    <tr>\n",
       "      <th>2406</th>\n",
       "      <td>8649</td>\n",
       "      <td>[3.0, 3.0, 2.67, 2.67, 2.67, 2.33]</td>\n",
       "      <td>[134539, 163251, 103879, 116416, 138406, 156518]</td>\n",
       "    </tr>\n",
       "    <tr>\n",
       "      <th>2407</th>\n",
       "      <td>6518</td>\n",
       "      <td>[3.0, 3.0, 2.67, 2.67, 2.33, 2.33]</td>\n",
       "      <td>[104260, 114319, 103819, 107799, 111408, 140684]</td>\n",
       "    </tr>\n",
       "    <tr>\n",
       "      <th>2408</th>\n",
       "      <td>10350</td>\n",
       "      <td>[3.0, 2.67, 2.67]</td>\n",
       "      <td>[104794, 109724, 158148]</td>\n",
       "    </tr>\n",
       "  </tbody>\n",
       "</table>\n",
       "<p>2409 rows × 3 columns</p>\n",
       "</div>"
      ],
      "text/plain": [
       "     search_term                                          relevance  \\\n",
       "0           6986                                  [3.0, 2.67, 2.33]   \n",
       "1           3719                                   [3.0, 3.0, 2.33]   \n",
       "2           8868  [2.67, 2.33, 2.33, 2.0, 2.0, 2.0, 2.0, 2.0, 1.67]   \n",
       "3           1029     [3.0, 2.67, 2.33, 2.33, 2.33, 2.33, 2.0, 1.33]   \n",
       "4           9026               [2.67, 2.67, 2.67, 2.67, 2.33, 1.67]   \n",
       "...          ...                                                ...   \n",
       "2404        7020                   [3.0, 3.0, 3.0, 2.67, 2.67, 2.0]   \n",
       "2405       11441                                        [3.0, 2.33]   \n",
       "2406        8649                 [3.0, 3.0, 2.67, 2.67, 2.67, 2.33]   \n",
       "2407        6518                 [3.0, 3.0, 2.67, 2.67, 2.33, 2.33]   \n",
       "2408       10350                                  [3.0, 2.67, 2.67]   \n",
       "\n",
       "                                            product_uid  \n",
       "0                              [102253, 111283, 102836]  \n",
       "1                              [120307, 131403, 142574]  \n",
       "2     [173029, 103075, 172086, 103297, 127687, 16977...  \n",
       "3     [152423, 133273, 109031, 142783, 143108, 16139...  \n",
       "4      [152672, 153135, 158820, 162809, 137444, 133249]  \n",
       "...                                                 ...  \n",
       "2404   [102455, 117151, 162801, 100342, 133562, 126083]  \n",
       "2405                                   [125934, 146854]  \n",
       "2406   [134539, 163251, 103879, 116416, 138406, 156518]  \n",
       "2407   [104260, 114319, 103819, 107799, 111408, 140684]  \n",
       "2408                           [104794, 109724, 158148]  \n",
       "\n",
       "[2409 rows x 3 columns]"
      ]
     },
     "execution_count": 41,
     "metadata": {},
     "output_type": "execute_result"
    }
   ],
   "source": [
    "merged"
   ]
  },
  {
   "cell_type": "code",
   "execution_count": 42,
   "metadata": {},
   "outputs": [],
   "source": [
    "# torch.argsort(torch.argsort(torch.tensor([5,7,3,1,9,11,4], dtype=torch.float32), descending=True))"
   ]
  },
  {
   "cell_type": "code",
   "execution_count": 43,
   "metadata": {},
   "outputs": [],
   "source": [
    "merged_dev = merged.reset_index().drop(['index'],axis=1)"
   ]
  },
  {
   "cell_type": "code",
   "execution_count": 44,
   "metadata": {},
   "outputs": [],
   "source": [
    "with open('data/reference/dev.out','w') as ft:\n",
    "    for i in range(len(merged_dev)):\n",
    "        argsorted = np.argsort(np.array(merged_dev['relevance'][i]))\n",
    "        app_lst = []\n",
    "\n",
    "        for j in range(len(argsorted)):\n",
    "            app_lst.append( str(merged_dev['product_uid'][i][j] ) + '-' + str(argsorted[j]) )\n",
    "\n",
    "        ft.write( merged_dev['search_term'][i] + ' ' + \",\".join(app_lst) + '\\n')"
   ]
  },
  {
   "cell_type": "markdown",
   "metadata": {},
   "source": [
    "### Make Test Ref File"
   ]
  },
  {
   "cell_type": "code",
   "execution_count": 4,
   "metadata": {},
   "outputs": [
    {
     "data": {
      "text/html": [
       "<div>\n",
       "<style scoped>\n",
       "    .dataframe tbody tr th:only-of-type {\n",
       "        vertical-align: middle;\n",
       "    }\n",
       "\n",
       "    .dataframe tbody tr th {\n",
       "        vertical-align: top;\n",
       "    }\n",
       "\n",
       "    .dataframe thead th {\n",
       "        text-align: right;\n",
       "    }\n",
       "</style>\n",
       "<table border=\"1\" class=\"dataframe\">\n",
       "  <thead>\n",
       "    <tr style=\"text-align: right;\">\n",
       "      <th></th>\n",
       "      <th>product_uid</th>\n",
       "      <th>product_title</th>\n",
       "      <th>search_term</th>\n",
       "      <th>relevance</th>\n",
       "      <th>brand</th>\n",
       "      <th>product_description</th>\n",
       "    </tr>\n",
       "  </thead>\n",
       "  <tbody>\n",
       "    <tr>\n",
       "      <th>1024</th>\n",
       "      <td>711159484</td>\n",
       "      <td>top 16gb 8gb class10 6 microsd sdhc micro sd t...</td>\n",
       "      <td>16 gb memori card</td>\n",
       "      <td>4.0</td>\n",
       "      <td>&lt;UNK&gt;</td>\n",
       "      <td>&lt;UNK&gt;</td>\n",
       "    </tr>\n",
       "    <tr>\n",
       "      <th>1026</th>\n",
       "      <td>711159486</td>\n",
       "      <td>new sandisk 16gb class 4 microsd microsdhc sd ...</td>\n",
       "      <td>16 gb memori card</td>\n",
       "      <td>4.0</td>\n",
       "      <td>sandisk</td>\n",
       "      <td>irrespect of the size of your phone or other d...</td>\n",
       "    </tr>\n",
       "    <tr>\n",
       "      <th>1027</th>\n",
       "      <td>711159487</td>\n",
       "      <td>lot of 2 sandisk 16gb micro sd microsdhc sdhc ...</td>\n",
       "      <td>16 gb memori card</td>\n",
       "      <td>4.0</td>\n",
       "      <td>&lt;UNK&gt;</td>\n",
       "      <td>&lt;UNK&gt;</td>\n",
       "    </tr>\n",
       "  </tbody>\n",
       "</table>\n",
       "</div>"
      ],
      "text/plain": [
       "      product_uid                                      product_title  \\\n",
       "1024    711159484  top 16gb 8gb class10 6 microsd sdhc micro sd t...   \n",
       "1026    711159486  new sandisk 16gb class 4 microsd microsdhc sd ...   \n",
       "1027    711159487  lot of 2 sandisk 16gb micro sd microsdhc sdhc ...   \n",
       "\n",
       "            search_term  relevance    brand  \\\n",
       "1024  16 gb memori card        4.0    <UNK>   \n",
       "1026  16 gb memori card        4.0  sandisk   \n",
       "1027  16 gb memori card        4.0    <UNK>   \n",
       "\n",
       "                                    product_description  \n",
       "1024                                              <UNK>  \n",
       "1026  irrespect of the size of your phone or other d...  \n",
       "1027                                              <UNK>  "
      ]
     },
     "execution_count": 4,
     "metadata": {},
     "output_type": "execute_result"
    }
   ],
   "source": [
    "test_data = pd.read_csv('data/test_final.csv',encoding='ISO-8859-1').dropna().reset_index().drop(['index'],axis=1).sort_values(['search_term','relevance'], ascending=[True,False])\n",
    "test_data.head(3)"
   ]
  },
  {
   "cell_type": "code",
   "execution_count": 5,
   "metadata": {},
   "outputs": [],
   "source": [
    "master_dict_test = {}\n",
    "for term in list(set(test_data['search_term'])):\n",
    "    master_dict_test[term] = len(master_dict_test)+1"
   ]
  },
  {
   "cell_type": "code",
   "execution_count": 6,
   "metadata": {},
   "outputs": [],
   "source": [
    "with open('data/reference/s_dict_test.txt','w') as f:\n",
    "    for k,v in master_dict_test.items():\n",
    "        f.write(k+'||'+str(v)+'\\n')"
   ]
  },
  {
   "cell_type": "code",
   "execution_count": 7,
   "metadata": {},
   "outputs": [],
   "source": [
    "gr_test = test_data.groupby('search_term')['relevance'].apply(list).reset_index(name='relevance')\n",
    "pid_test = test_data.groupby('search_term')['product_uid'].apply(list).reset_index(name='product_uid')\n",
    "merged_test = gr_test.merge(pid_test,how='left',on='search_term')\n",
    "merged_test['search_term'] = merged_test['search_term'].apply(lambda x: str(master_dict_test[x]))"
   ]
  },
  {
   "cell_type": "code",
   "execution_count": 11,
   "metadata": {},
   "outputs": [],
   "source": [
    "with open('data/reference/test.out','w') as ft:\n",
    "    for i in range(len(merged_test)):\n",
    "#         argsorted = np.argsort(np.argsort(-np.array(merged_test['relevance'][i])))\n",
    "        argsorted = [ i for i in range (len(merged_test['relevance'][i])) ]\n",
    "                     \n",
    "        app_lst = []\n",
    "\n",
    "        for j in range(len(argsorted)):\n",
    "            app_lst.append( str(merged_test['product_uid'][i][j] ) + '-' + str(argsorted[j]) )\n",
    "\n",
    "        ft.write( merged_test['search_term'][i] + ' ' + \",\".join(app_lst) + '\\n')"
   ]
  },
  {
   "cell_type": "code",
   "execution_count": null,
   "metadata": {},
   "outputs": [],
   "source": []
  }
 ],
 "metadata": {
  "kernelspec": {
   "display_name": "Python 3",
   "language": "python",
   "name": "python3"
  },
  "language_info": {
   "codemirror_mode": {
    "name": "ipython",
    "version": 3
   },
   "file_extension": ".py",
   "mimetype": "text/x-python",
   "name": "python",
   "nbconvert_exporter": "python",
   "pygments_lexer": "ipython3",
   "version": "3.7.3"
  }
 },
 "nbformat": 4,
 "nbformat_minor": 2
}
